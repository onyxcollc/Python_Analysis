{
 "cells": [
  {
   "cell_type": "code",
   "execution_count": null,
   "metadata": {},
   "outputs": [],
   "source": [
    "from pathlib import Path\n",
    "import csv"
   ]
  },
  {
   "cell_type": "code",
   "execution_count": null,
   "metadata": {},
   "outputs": [],
   "source": [
    "file_location1 = Path(\"menu_data.csv\")"
   ]
  },
  {
   "cell_type": "code",
   "execution_count": null,
   "metadata": {},
   "outputs": [],
   "source": [
    "menu = []\n",
    "\n",
    "with open(file_location1, 'r') as menu_data:\n",
    "    readFile = csv.reader(menu_data)\n",
    "    \n",
    "    header = next(readFile)\n",
    "    \n",
    "    for row in readFile:\n",
    "        print(row)\n",
    "        \n",
    "        menu.append(row)    "
   ]
  },
  {
   "cell_type": "code",
   "execution_count": null,
   "metadata": {},
   "outputs": [],
   "source": [
    "#menu"
   ]
  },
  {
   "cell_type": "code",
   "execution_count": null,
   "metadata": {},
   "outputs": [],
   "source": [
    "from pathlib import Path \n",
    "import csv"
   ]
  },
  {
   "cell_type": "code",
   "execution_count": null,
   "metadata": {},
   "outputs": [],
   "source": [
    "file_location2 = Path(\"sales_data.csv\")"
   ]
  },
  {
   "cell_type": "code",
   "execution_count": null,
   "metadata": {},
   "outputs": [],
   "source": [
    "sale = []\n",
    "\n",
    "with open(file_location2, 'r')as sale_data:\n",
    "    readFile = csv.reader(sale_data)\n",
    "    \n",
    "    header = next(readFile)\n",
    "    \n",
    "    for row in readFile:\n",
    "        print(row)\n",
    "        \n",
    "        sale.append(row)"
   ]
  },
  {
   "cell_type": "code",
   "execution_count": null,
   "metadata": {},
   "outputs": [],
   "source": [
    "#sale"
   ]
  },
  {
   "cell_type": "code",
   "execution_count": null,
   "metadata": {},
   "outputs": [],
   "source": [
    "#!jupyter notebook --generate-config"
   ]
  },
  {
   "cell_type": "code",
   "execution_count": null,
   "metadata": {},
   "outputs": [],
   "source": [
    "# Next i need to Minupultate the data.\n",
    "\n",
    "report = {}\n",
    "\n",
    "# let start a counter\n",
    "counter = 0\n",
    "\n",
    "# sale = []   \n",
    "# menu = []\n",
    "for row in sale:\n",
    "    #print(row[Quantity])\n",
    "    #print(row[Menu_item])\n",
    "    \n",
    "    quant = int(row[3])\n",
    "    menu_item = row[4]\n",
    "    # if the item is not the report, add it as a new vale\n",
    "    \n",
    "    if menu_item not in report.keys():\n",
    "        report[menu_item]={\n",
    "            \"01-count\": 0,\n",
    "            \"02-revenue\":0,\n",
    "            \"03-cogs\":0,\n",
    "            \"04-profit\": 0,\n",
    "        }\n",
    "    \n",
    "    for value in menu:\n",
    "#         print(row1[item])\n",
    "#         print(row2[price])\n",
    "#         print(row3[cost])\n",
    "        \n",
    "        item = value[0]\n",
    "        price = float(value[3])\n",
    "        cost = float(value[4])\n",
    "        \n",
    "        # Calculate the profit for each item in the menu\n",
    "        profit = price - cost\n",
    "        \n",
    "        if menu_item == item:\n",
    "            report[menu_item][\"01-count\"] += quant\n",
    "            report[menu_item][\"02-revenue\"] += price * quant\n",
    "            report[menu_item][\"03-cogs\"] += cost * quant\n",
    "            report[menu_item][\"04-profit\"] += profit * quant\n",
    "\n",
    "        else:\n",
    "            print(menu_item, \"equal\", value[0], \"? No Match!!\")\n",
    "    \n",
    "    counter += 1\n"
   ]
  },
  {
   "cell_type": "code",
   "execution_count": null,
   "metadata": {},
   "outputs": [],
   "source": [
    "#print(\"Total records are:\" counter)"
   ]
  },
  {
   "cell_type": "code",
   "execution_count": null,
   "metadata": {},
   "outputs": [],
   "source": [
    "output_path = Path(\"FinalResults/Report.txt\")\n",
    "with open(output_path, 'w') as txt_file:\n",
    "    for key, value in report.items():\n",
    "        line = f\"{key} {value}\\n\"\n",
    "        txt_file.write(line)\n"
   ]
  },
  {
   "cell_type": "code",
   "execution_count": null,
   "metadata": {},
   "outputs": [],
   "source": []
  }
 ],
 "metadata": {
  "kernelspec": {
   "display_name": "Python 3",
   "language": "python",
   "name": "python3"
  },
  "language_info": {
   "codemirror_mode": {
    "name": "ipython",
    "version": 3
   },
   "file_extension": ".py",
   "mimetype": "text/x-python",
   "name": "python",
   "nbconvert_exporter": "python",
   "pygments_lexer": "ipython3",
   "version": "3.8.3"
  }
 },
 "nbformat": 4,
 "nbformat_minor": 4
}
