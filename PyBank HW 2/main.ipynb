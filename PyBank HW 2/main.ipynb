{
 "cells": [
  {
   "cell_type": "code",
   "execution_count": 1,
   "metadata": {},
   "outputs": [],
   "source": [
    "# Import dependencies or libraries\n",
    "import csv # will refernce the type of the file\n",
    "from pathlib import Path # will reference the path of the file\n",
    "\n",
    "\n"
   ]
  },
  {
   "cell_type": "code",
   "execution_count": 2,
   "metadata": {},
   "outputs": [],
   "source": [
    "# Hey Python, where is my file? \n",
    "file_location = Path(\"budget_data.csv\")\n"
   ]
  },
  {
   "cell_type": "code",
   "execution_count": 3,
   "metadata": {},
   "outputs": [],
   "source": [
    "# Declare the variables that will be output first\n",
    "\n",
    "Total_Months = 0\n",
    "Total_net = 0\n",
    "Average = 0\n",
    "Greatest_Increase_in_Profits = 0\n",
    "Greatest_Decrease_in_Profits = 0\n",
    "dollar_change = []\n",
    "profits = []\n",
    "monthly_changes = 0"
   ]
  },
  {
   "cell_type": "code",
   "execution_count": 4,
   "metadata": {},
   "outputs": [],
   "source": [
    "# Now python since you know where my file is, \n",
    "# let's read it and convert the file in a dictionary format\n",
    "\n",
    "with open(file_location) as dataFile:\n",
    "    readFile = csv.reader(dataFile)  # reading the file\n",
    "    \n",
    "    # skip the header row so it is not included in the dict\n",
    "    header = next(readFile)\n",
    "    \n",
    "    \n",
    "    for x in readFile:\n",
    "        \n",
    "        # find out how many months in file\n",
    "        \n",
    "        Total_Months += 1\n",
    "        \n",
    "        Total_net += int(x[1])  # x will reference the row and [1] is refering the column\n",
    "    \n",
    "        initial_value = int(x[1])\n",
    "        \n",
    "        # conditioanl statement (if else)\n",
    "        \n",
    "        if Total_Months ==1:\n",
    "            dollar_change = x[1]\n",
    "            profits.append(x[1])\n",
    "            index = 0 # we are setting index back to zero \n",
    "        \n",
    "        else:\n",
    "            \n",
    "            dollar_change = initial_value - int(profits[index])\n",
    "            profits.append(x[1])\n",
    "            index = index + 1\n",
    "            monthly_changes = monthly_changes + dollar_change\n",
    "            \n",
    "        ## Greates increase and Greatest decrease\n",
    "        \n",
    "        if int(dollar_change) < Greatest_Decrease_in_Profits:\n",
    "            Greatest_Decrease_in_Profits = int(dollar_change)\n",
    "            decrease_month = x[0]\n",
    "            \n",
    "        if int(dollar_change) > Greatest_Increase_in_Profits:\n",
    "            Greatest_Increase_in_Profits = int(dollar_change)\n",
    "            increase_month = x[0]\n",
    "        \n",
    "            \n",
    "    average_changes = monthly_changes / (Total_Months -1)\n",
    "    \n",
    "\n",
    "\n"
   ]
  },
  {
   "cell_type": "code",
   "execution_count": 5,
   "metadata": {},
   "outputs": [
    {
     "name": "stdout",
     "output_type": "stream",
     "text": [
      "Financail Analysis\n",
      "--------------------------------------------\n",
      "Total Months: 86\n",
      "Total: 38382578\n",
      " Average Change: -2315.1176470588234\n",
      " Greatest Increase in Profits: 1926159\n",
      "The Month Increase: Feb-2012\n",
      "The Greatest Decrease: -2196167\n",
      "The Month Decrease: Sep-2013\n"
     ]
    }
   ],
   "source": [
    "print(f\"Financail Analysis\")\n",
    "print(f\"--------------------------------------------\")\n",
    "print(f'Total Months: {Total_Months}')\n",
    "print(f'Total: {Total_net}')\n",
    "print(f' Average Change: {average_changes}')\n",
    "print(f' Greatest Increase in Profits: {Greatest_Increase_in_Profits}')\n",
    "print(f'The Month Increase: {increase_month}')\n",
    "print(f'The Greatest Decrease: {Greatest_Decrease_in_Profits}')\n",
    "print(f'The Month Decrease: {decrease_month}')"
   ]
  },
  {
   "cell_type": "code",
   "execution_count": 6,
   "metadata": {},
   "outputs": [],
   "source": [
    "output_path = Path(\"FinalOutput/FinancialAnalysis.txt\")\n",
    "with open(output_path, 'w') as txt_file:\n",
    "    txt_file.write(f\"Financail Analysis\\n\")\n",
    "    txt_file.write(f\"--------------------------------------------\\n\")\n",
    "    txt_file.write(f'Total Months: {Total_Months}\\n')\n",
    "    txt_file.write(f'Total: ${Total_net}\\n')\n",
    "    txt_file.write(f'Average Change: {average_changes}\\n')\n",
    "    txt_file.write(f'Greatest Increase in Profits: ${Greatest_Increase_in_Profits} | ({increase_month})\\n')\n",
    "#     txt_file.write(f'The Month Increase: {increase_month}\\n')\n",
    "    txt_file.write(f'The Greatest Decrease: ${Greatest_Decrease_in_Profits} | ({decrease_month})\\n')\n",
    "#     txt_file.write(f'The Month Decrease: {decrease_month}\\n')\n",
    "                    "
   ]
  },
  {
   "cell_type": "code",
   "execution_count": null,
   "metadata": {},
   "outputs": [],
   "source": []
  }
 ],
 "metadata": {
  "kernelspec": {
   "display_name": "Python 3",
   "language": "python",
   "name": "python3"
  },
  "language_info": {
   "codemirror_mode": {
    "name": "ipython",
    "version": 3
   },
   "file_extension": ".py",
   "mimetype": "text/x-python",
   "name": "python",
   "nbconvert_exporter": "python",
   "pygments_lexer": "ipython3",
   "version": "3.8.3"
  }
 },
 "nbformat": 4,
 "nbformat_minor": 4
}
